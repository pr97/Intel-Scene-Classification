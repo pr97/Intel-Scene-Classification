{
 "cells": [
  {
   "cell_type": "code",
   "execution_count": 1,
   "metadata": {},
   "outputs": [
    {
     "name": "stderr",
     "output_type": "stream",
     "text": [
      "Using TensorFlow backend.\n"
     ]
    }
   ],
   "source": [
    "from keras.applications.inception_resnet_v2 import InceptionResNetV2\n",
    "from keras.models import load_model, Sequential, Model\n",
    "from keras.layers import Input, Dense\n",
    "from keras.optimizers import Adam\n",
    "from keras.callbacks import TensorBoard, ModelCheckpoint\n",
    "from keras.preprocessing import image\n",
    "from keras.applications.inception_resnet_v2 import preprocess_input, decode_predictions\n",
    "\n",
    "import numpy as np\n",
    "from keras.utils.np_utils import to_categorical\n",
    "import glob\n",
    "import os\n",
    "\n",
    "from sgdr import SGDRScheduler"
   ]
  },
  {
   "cell_type": "code",
   "execution_count": 2,
   "metadata": {},
   "outputs": [],
   "source": [
    "categories = ['0_buildings', '1_forest', '2_glacier', '3_mountain', '4_sea', '5_street']"
   ]
  },
  {
   "cell_type": "code",
   "execution_count": 3,
   "metadata": {},
   "outputs": [],
   "source": [
    "train_datagen = image.ImageDataGenerator(rotation_range=10,\n",
    "                                         width_shift_range=0.25,\n",
    "                                         height_shift_range=0.25,\n",
    "                                         shear_range=0.01,\n",
    "                                         zoom_range=[0.75, 1.25],\n",
    "                                         horizontal_flip=True,\n",
    "                                         vertical_flip=False,\n",
    "                                         data_format='channels_last',\n",
    "                                         fill_mode='reflect',\n",
    "                                         brightness_range=[0.75, 1.25]\n",
    "                                        )"
   ]
  },
  {
   "cell_type": "code",
   "execution_count": 15,
   "metadata": {},
   "outputs": [
    {
     "name": "stdout",
     "output_type": "stream",
     "text": [
      "Found 17034 images belonging to 6 classes.\n"
     ]
    }
   ],
   "source": [
    "train_generator = train_datagen.flow_from_directory(\n",
    "    directory='C:/Datasets/scene-classification/data_augment/train',\n",
    "    target_size=(299, 299),\n",
    "    color_mode='rgb',\n",
    "    batch_size=4,\n",
    "    class_mode='categorical',\n",
    "    shuffle=True,\n",
    "    seed=42\n",
    ")"
   ]
  },
  {
   "cell_type": "code",
   "execution_count": 14,
   "metadata": {},
   "outputs": [
    {
     "name": "stdout",
     "output_type": "stream",
     "text": [
      "_________________________________________________________________\n",
      "Layer (type)                 Output Shape              Param #   \n",
      "=================================================================\n",
      "input_2 (InputLayer)         (None, 299, 299, 3)       0         \n",
      "_________________________________________________________________\n",
      "inception_resnet_v2 (Model)  (None, 1536)              54336736  \n",
      "_________________________________________________________________\n",
      "dense_2 (Dense)              (None, 6)                 9222      \n",
      "=================================================================\n",
      "Total params: 54,345,958\n",
      "Trainable params: 4,711,398\n",
      "Non-trainable params: 49,634,560\n",
      "_________________________________________________________________\n"
     ]
    }
   ],
   "source": [
    "input_tensor = Input(shape=(299, 299, 3))\n",
    "base_model = InceptionResNetV2(include_top=False, weights='imagenet', input_tensor=input_tensor, input_shape=(299, 299, 3), pooling='avg', classes=1000)\n",
    "for layer in base_model.layers[:-13]:\n",
    "    layer.trainable = False\n",
    "    \n",
    "t = base_model(input_tensor)\n",
    "output_tensor = Dense(len(categories), activation='softmax')(t)\n",
    "model = Model(inputs=input_tensor, outputs=output_tensor)\n",
    "model.summary()"
   ]
  },
  {
   "cell_type": "code",
   "execution_count": 8,
   "metadata": {},
   "outputs": [],
   "source": [
    "file_path = 'C:/Datasets/scene-classification/models/'\n",
    "model_name = 'irnv2_adam_sgdr_v0.2-batch_size-32.hdf5'\n",
    "checkpoint = ModelCheckpoint(file_path + model_name, monitor='categorical_accuracy', save_best_only=True, verbose=1, mode='max')\n",
    "optimizer = Adam(lr=3e-4)\n",
    "tboard = TensorBoard(log_dir='C:/Datasets/scene-classification/logs/')"
   ]
  },
  {
   "cell_type": "code",
   "execution_count": 9,
   "metadata": {},
   "outputs": [],
   "source": [
    "model.compile(loss='categorical_crossentropy', optimizer=optimizer, metrics=['categorical_accuracy'])"
   ]
  },
  {
   "cell_type": "code",
   "execution_count": 10,
   "metadata": {},
   "outputs": [],
   "source": [
    "STEP_SIZE_TRAIN = train_generator.n // train_generator.batch_size"
   ]
  },
  {
   "cell_type": "code",
   "execution_count": 11,
   "metadata": {},
   "outputs": [
    {
     "data": {
      "text/plain": [
       "532"
      ]
     },
     "execution_count": 11,
     "metadata": {},
     "output_type": "execute_result"
    }
   ],
   "source": [
    "STEP_SIZE_TRAIN"
   ]
  },
  {
   "cell_type": "code",
   "execution_count": 12,
   "metadata": {},
   "outputs": [
    {
     "name": "stdout",
     "output_type": "stream",
     "text": [
      "Epoch 1/1\n",
      "532/532 [==============================] - 401s 755ms/step - loss: 0.3916 - categorical_accuracy: 0.8579\n",
      "\n",
      "Epoch 00001: categorical_accuracy improved from -inf to 0.85784, saving model to C:/Datasets/scene-classification/models/irnv2_adam_sgdr_v0.2-batch_size-32.hdf5\n"
     ]
    },
    {
     "data": {
      "text/plain": [
       "<keras.callbacks.History at 0x17b08b1cf98>"
      ]
     },
     "execution_count": 12,
     "metadata": {},
     "output_type": "execute_result"
    }
   ],
   "source": [
    "model.fit_generator(generator=train_generator,\n",
    "                    steps_per_epoch=STEP_SIZE_TRAIN,\n",
    "                    callbacks=[checkpoint, tboard],\n",
    "                    epochs=1,\n",
    "                    verbose=1\n",
    "                   )"
   ]
  },
  {
   "cell_type": "code",
   "execution_count": 6,
   "metadata": {},
   "outputs": [],
   "source": [
    "file_path = 'C:/Datasets/scene-classification/models/'\n",
    "model_name = 'irnv2_adam_sgdr_v0.2-batch_size-16.hdf5'\n",
    "checkpoint = ModelCheckpoint(file_path + model_name, monitor='categorical_accuracy', save_best_only=True, verbose=1, mode='max')\n",
    "optimizer = Adam(lr=3e-4)\n",
    "tboard = TensorBoard(log_dir='C:/Datasets/scene-classification/logs/')"
   ]
  },
  {
   "cell_type": "code",
   "execution_count": 7,
   "metadata": {},
   "outputs": [],
   "source": [
    "model.compile(loss='categorical_crossentropy', optimizer=optimizer, metrics=['categorical_accuracy'])"
   ]
  },
  {
   "cell_type": "code",
   "execution_count": 8,
   "metadata": {},
   "outputs": [
    {
     "data": {
      "text/plain": [
       "1064"
      ]
     },
     "execution_count": 8,
     "metadata": {},
     "output_type": "execute_result"
    }
   ],
   "source": [
    "STEP_SIZE_TRAIN = train_generator.n // train_generator.batch_size\n",
    "STEP_SIZE_TRAIN"
   ]
  },
  {
   "cell_type": "code",
   "execution_count": 9,
   "metadata": {},
   "outputs": [
    {
     "name": "stdout",
     "output_type": "stream",
     "text": [
      "Epoch 1/1\n",
      "1064/1064 [==============================] - 401s 377ms/step - loss: 0.4244 - categorical_accuracy: 0.8430\n",
      "\n",
      "Epoch 00001: categorical_accuracy improved from -inf to 0.84299, saving model to C:/Datasets/scene-classification/models/irnv2_adam_sgdr_v0.2-batch_size-16.hdf5\n"
     ]
    },
    {
     "data": {
      "text/plain": [
       "<keras.callbacks.History at 0x20c08f11d68>"
      ]
     },
     "execution_count": 9,
     "metadata": {},
     "output_type": "execute_result"
    }
   ],
   "source": [
    "model.fit_generator(generator=train_generator,\n",
    "                    steps_per_epoch=STEP_SIZE_TRAIN,\n",
    "                    callbacks=[checkpoint, tboard],\n",
    "                    epochs=1,\n",
    "                    verbose=1\n",
    "                   )"
   ]
  },
  {
   "cell_type": "code",
   "execution_count": 10,
   "metadata": {},
   "outputs": [],
   "source": [
    "file_path = 'C:/Datasets/scene-classification/models/'\n",
    "model_name = 'irnv2_adam_sgdr_v0.2-batch_size-8.hdf5'\n",
    "checkpoint = ModelCheckpoint(file_path + model_name, monitor='categorical_accuracy', save_best_only=True, verbose=1, mode='max')\n",
    "optimizer = Adam(lr=3e-4)\n",
    "tboard = TensorBoard(log_dir='C:/Datasets/scene-classification/logs/')"
   ]
  },
  {
   "cell_type": "code",
   "execution_count": 11,
   "metadata": {},
   "outputs": [],
   "source": [
    "model.compile(loss='categorical_crossentropy', optimizer=optimizer, metrics=['categorical_accuracy'])"
   ]
  },
  {
   "cell_type": "code",
   "execution_count": 12,
   "metadata": {},
   "outputs": [
    {
     "data": {
      "text/plain": [
       "2129"
      ]
     },
     "execution_count": 12,
     "metadata": {},
     "output_type": "execute_result"
    }
   ],
   "source": [
    "STEP_SIZE_TRAIN = train_generator.n // train_generator.batch_size\n",
    "STEP_SIZE_TRAIN"
   ]
  },
  {
   "cell_type": "code",
   "execution_count": 13,
   "metadata": {},
   "outputs": [
    {
     "name": "stdout",
     "output_type": "stream",
     "text": [
      "Epoch 1/1\n",
      "2129/2129 [==============================] - 443s 208ms/step - loss: 0.4835 - categorical_accuracy: 0.8198\n",
      "\n",
      "Epoch 00001: categorical_accuracy improved from -inf to 0.81992, saving model to C:/Datasets/scene-classification/models/irnv2_adam_sgdr_v0.2-batch_size-8.hdf5\n"
     ]
    },
    {
     "data": {
      "text/plain": [
       "<keras.callbacks.History at 0x1d685b908d0>"
      ]
     },
     "execution_count": 13,
     "metadata": {},
     "output_type": "execute_result"
    }
   ],
   "source": [
    "model.fit_generator(generator=train_generator,\n",
    "                    steps_per_epoch=STEP_SIZE_TRAIN,\n",
    "                    callbacks=[checkpoint, tboard],\n",
    "                    epochs=1,\n",
    "                    verbose=1\n",
    "                   )"
   ]
  },
  {
   "cell_type": "code",
   "execution_count": 16,
   "metadata": {},
   "outputs": [],
   "source": [
    "file_path = 'C:/Datasets/scene-classification/models/'\n",
    "model_name = 'irnv2_adam_sgdr_v0.2-batch_size-4.hdf5'\n",
    "checkpoint = ModelCheckpoint(file_path + model_name, monitor='categorical_accuracy', save_best_only=True, verbose=1, mode='max')\n",
    "optimizer = Adam(lr=3e-4)\n",
    "tboard = TensorBoard(log_dir='C:/Datasets/scene-classification/logs/')"
   ]
  },
  {
   "cell_type": "code",
   "execution_count": 17,
   "metadata": {},
   "outputs": [],
   "source": [
    "model.compile(loss='categorical_crossentropy', optimizer=optimizer, metrics=['categorical_accuracy'])"
   ]
  },
  {
   "cell_type": "code",
   "execution_count": 18,
   "metadata": {},
   "outputs": [
    {
     "data": {
      "text/plain": [
       "4258"
      ]
     },
     "execution_count": 18,
     "metadata": {},
     "output_type": "execute_result"
    }
   ],
   "source": [
    "STEP_SIZE_TRAIN = train_generator.n // train_generator.batch_size\n",
    "STEP_SIZE_TRAIN"
   ]
  },
  {
   "cell_type": "code",
   "execution_count": 19,
   "metadata": {},
   "outputs": [
    {
     "name": "stdout",
     "output_type": "stream",
     "text": [
      "Epoch 1/1\n",
      "4258/4258 [==============================] - 528s 124ms/step - loss: 0.5940 - categorical_accuracy: 0.7846\n",
      "\n",
      "Epoch 00001: categorical_accuracy improved from -inf to 0.78462, saving model to C:/Datasets/scene-classification/models/irnv2_adam_sgdr_v0.2-batch_size-4.hdf5\n"
     ]
    },
    {
     "data": {
      "text/plain": [
       "<keras.callbacks.History at 0x1d6b1f32f98>"
      ]
     },
     "execution_count": 19,
     "metadata": {},
     "output_type": "execute_result"
    }
   ],
   "source": [
    "model.fit_generator(generator=train_generator,\n",
    "                    steps_per_epoch=STEP_SIZE_TRAIN,\n",
    "                    callbacks=[checkpoint, tboard],\n",
    "                    epochs=1,\n",
    "                    verbose=1\n",
    "                   )"
   ]
  },
  {
   "cell_type": "markdown",
   "metadata": {},
   "source": [
    "__Batch size = 32__\n",
    "<br>\n",
    "loss = 0.3916, categorical_accuracy = 0.8579\n",
    "<br>\n",
    "<br>\n",
    "__Batch size = 16__\n",
    "<br>\n",
    "loss = 0.4244, categorical_accuracy = 0.84229\n",
    "<br>\n",
    "<br>\n",
    "__Batch size = 8__\n",
    "<br>\n",
    "loss = 0.4835, categorical_accuracy = 0.8198\n",
    "<br>\n",
    "<br>\n",
    "__Batch size = 4__\n",
    "<br>\n",
    "loss = 0.5940, categorical_accuracy = 0.7846\n",
    "<br>"
   ]
  },
  {
   "cell_type": "code",
   "execution_count": null,
   "metadata": {},
   "outputs": [],
   "source": []
  }
 ],
 "metadata": {
  "kernelspec": {
   "display_name": "TensorFlow-GPU",
   "language": "python",
   "name": "tf-gpu"
  },
  "language_info": {
   "codemirror_mode": {
    "name": "ipython",
    "version": 3
   },
   "file_extension": ".py",
   "mimetype": "text/x-python",
   "name": "python",
   "nbconvert_exporter": "python",
   "pygments_lexer": "ipython3",
   "version": "3.6.7"
  }
 },
 "nbformat": 4,
 "nbformat_minor": 2
}
