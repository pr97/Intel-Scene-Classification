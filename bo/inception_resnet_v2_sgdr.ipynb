{
 "cells": [
  {
   "cell_type": "code",
   "execution_count": 1,
   "metadata": {},
   "outputs": [
    {
     "name": "stderr",
     "output_type": "stream",
     "text": [
      "Using TensorFlow backend.\n"
     ]
    }
   ],
   "source": [
    "from keras.applications.inception_resnet_v2 import InceptionResNetV2\n",
    "from keras.models import load_model, Sequential, Model\n",
    "from keras.layers import Input, Dense\n",
    "from keras.optimizers import Adam\n",
    "from keras.callbacks import TensorBoard, ModelCheckpoint\n",
    "from keras.preprocessing import image\n",
    "from keras.applications.inception_resnet_v2 import preprocess_input, decode_predictions\n",
    "\n",
    "import numpy as np\n",
    "from keras.utils.np_utils import to_categorical\n",
    "import glob\n",
    "import os\n",
    "\n",
    "from sgdr import SGDRScheduler"
   ]
  },
  {
   "cell_type": "code",
   "execution_count": 2,
   "metadata": {},
   "outputs": [],
   "source": [
    "categories = ['0_buildings', '1_forest', '2_glacier', '3_mountain', '4_sea', '5_street']"
   ]
  },
  {
   "cell_type": "markdown",
   "metadata": {},
   "source": [
    "```python\n",
    "def load_data(file_path):\n",
    "    x_train = []\n",
    "    y_train = []\n",
    "    \n",
    "    images = glob.glob(file_path + '/**/*')\n",
    "    for photo in images:\n",
    "        img = image.load_img(photo, target_size=(299, 299))\n",
    "        tr_x = image.img_to_array(img)\n",
    "        tr_x = preprocess_input(tr_x)\n",
    "        label = (photo.split('\\\\')[1])\n",
    "        label_place = categories.index(label)\n",
    "        \n",
    "        x_train.append(tr_x)\n",
    "        y_train.append(label_place)\n",
    "        \n",
    "    return np.array(x_train), to_categorical(y_train)\n",
    "```"
   ]
  },
  {
   "cell_type": "markdown",
   "metadata": {},
   "source": [
    "```python\n",
    "x_train, y_train = load_data('C:/Datasets/scene-classification/data_augment/train/')\n",
    "```"
   ]
  },
  {
   "cell_type": "code",
   "execution_count": 7,
   "metadata": {},
   "outputs": [],
   "source": [
    "train_datagen = image.ImageDataGenerator(preprocessing_function=preprocess_input,\n",
    "                                         rotation_range=10,\n",
    "                                         width_shift_range=0.25,\n",
    "                                         height_shift_range=0.25,\n",
    "                                         shear_range=0.01,\n",
    "                                         zoom_range=[0.75, 1.25],\n",
    "                                         horizontal_flip=True,\n",
    "                                         vertical_flip=False,\n",
    "                                         data_format='channels_last',\n",
    "                                         fill_mode='reflect',\n",
    "                                         brightness_range=[0.75, 1.25]\n",
    "                                         )"
   ]
  },
  {
   "cell_type": "code",
   "execution_count": 4,
   "metadata": {},
   "outputs": [
    {
     "name": "stdout",
     "output_type": "stream",
     "text": [
      "Found 15780 images belonging to 6 classes.\n"
     ]
    }
   ],
   "source": [
    "train_generator = train_datagen.flow_from_directory(\n",
    "    directory='C:/Datasets/scene-classification/data/train/',\n",
    "    target_size=(299, 299),\n",
    "    color_mode='rgb',\n",
    "    batch_size=32,\n",
    "    class_mode='categorical',\n",
    "    shuffle=True,\n",
    "    seed=42\n",
    ")"
   ]
  },
  {
   "cell_type": "code",
   "execution_count": 5,
   "metadata": {},
   "outputs": [],
   "source": [
    "def load_validation_data(file_path):\n",
    "    x_val = []\n",
    "    y_val = []\n",
    "    \n",
    "    images = glob.glob(file_path + '/**/*')\n",
    "    for photo in images:\n",
    "        img = image.load_img(photo, target_size=(299, 299))\n",
    "        tr_x = image.img_to_array(img)\n",
    "        tr_x = preprocess_input(tr_x)\n",
    "        label = (photo.split('\\\\')[1])\n",
    "        label_place = categories.index(label)\n",
    "        \n",
    "        x_val.append(tr_x)\n",
    "        y_val.append(label_place)\n",
    "        \n",
    "    return np.array(x_val), to_categorical(y_val)"
   ]
  },
  {
   "cell_type": "code",
   "execution_count": 6,
   "metadata": {},
   "outputs": [],
   "source": [
    "x_val, y_val = load_validation_data('C:/Datasets/scene-classification/data/valid/')"
   ]
  },
  {
   "cell_type": "code",
   "execution_count": 7,
   "metadata": {},
   "outputs": [
    {
     "data": {
      "text/plain": [
       "(1254, 299, 299, 3)"
      ]
     },
     "execution_count": 7,
     "metadata": {},
     "output_type": "execute_result"
    }
   ],
   "source": [
    "x_val.shape"
   ]
  },
  {
   "cell_type": "code",
   "execution_count": 10,
   "metadata": {},
   "outputs": [],
   "source": [
    "STEP_SIZE_TRAIN = train_generator.n // train_generator.batch_size\n",
    "STEP_SIZE_VALID = 32"
   ]
  },
  {
   "cell_type": "code",
   "execution_count": 12,
   "metadata": {},
   "outputs": [
    {
     "name": "stdout",
     "output_type": "stream",
     "text": [
      "_________________________________________________________________\n",
      "Layer (type)                 Output Shape              Param #   \n",
      "=================================================================\n",
      "input_1 (InputLayer)         (None, 299, 299, 3)       0         \n",
      "_________________________________________________________________\n",
      "inception_resnet_v2 (Model)  (None, 1536)              54336736  \n",
      "_________________________________________________________________\n",
      "dense_1 (Dense)              (None, 6)                 9222      \n",
      "=================================================================\n",
      "Total params: 54,345,958\n",
      "Trainable params: 4,711,398\n",
      "Non-trainable params: 49,634,560\n",
      "_________________________________________________________________\n"
     ]
    }
   ],
   "source": [
    "input_tensor = Input(shape=(299, 299, 3))\n",
    "base_model = InceptionResNetV2(include_top=False, weights='imagenet', input_tensor=input_tensor, input_shape=(299, 299, 3), pooling='avg', classes=1000)\n",
    "for layer in base_model.layers[:-13]:\n",
    "    layer.trainable = False\n",
    "    \n",
    "t = base_model(input_tensor)\n",
    "output_tensor = Dense(len(categories), activation='softmax')(t)\n",
    "model = Model(inputs=input_tensor, outputs=output_tensor)\n",
    "model.summary()"
   ]
  },
  {
   "cell_type": "code",
   "execution_count": 9,
   "metadata": {},
   "outputs": [],
   "source": [
    "model = load_model('C:/Datasets/scene-classification/models/irnv2_adam_sgdr-e16-v0.92-t0.92.hdf5')"
   ]
  },
  {
   "cell_type": "code",
   "execution_count": 13,
   "metadata": {},
   "outputs": [],
   "source": [
    "file_path = 'C:/Datasets/scene-classification/models/'\n",
    "model_name = 'irnv2_adam_sgdr_v0.2-e{epoch:02d}-v{val_categorical_accuracy:.2f}-t{categorical_accuracy:.2f}.hdf5'\n",
    "checkpoint = ModelCheckpoint(file_path + model_name, monitor='val_categorical_accuracy', save_best_only=True, verbose=1, mode='max')\n",
    "schedule = SGDRScheduler(min_lr=1e-5, max_lr=1e-2,\n",
    "                         steps_per_epoch=STEP_SIZE_TRAIN,\n",
    "                         lr_decay=0.9,\n",
    "                         cycle_length=3,\n",
    "                         mult_factor=1.5)\n",
    "tboard = TensorBoard(log_dir='C:/Datasets/scene-classification/logs/')"
   ]
  },
  {
   "cell_type": "code",
   "execution_count": 14,
   "metadata": {},
   "outputs": [],
   "source": [
    "model.compile(loss='categorical_crossentropy', optimizer='adam', metrics=['categorical_accuracy'])"
   ]
  },
  {
   "cell_type": "code",
   "execution_count": 14,
   "metadata": {},
   "outputs": [
    {
     "name": "stdout",
     "output_type": "stream",
     "text": [
      "Epoch 1/50\n",
      "493/493 [==============================] - 369s 749ms/step - loss: 0.2565 - categorical_accuracy: 0.9071 - val_loss: 0.2657 - val_categorical_accuracy: 0.9203\n",
      "\n",
      "Epoch 00001: val_categorical_accuracy improved from -inf to 0.92026, saving model to C:/Datasets/scene-classification/models/irnv2_adam_sgdr_v0.1-e01-v0.92-t0.91.hdf5\n",
      "Epoch 2/50\n",
      "493/493 [==============================] - 365s 741ms/step - loss: 0.2280 - categorical_accuracy: 0.9168 - val_loss: 0.2255 - val_categorical_accuracy: 0.9234\n",
      "\n",
      "Epoch 00002: val_categorical_accuracy improved from 0.92026 to 0.92344, saving model to C:/Datasets/scene-classification/models/irnv2_adam_sgdr_v0.1-e02-v0.92-t0.92.hdf5\n",
      "Epoch 3/50\n",
      "493/493 [==============================] - 364s 739ms/step - loss: 0.1892 - categorical_accuracy: 0.9307 - val_loss: 0.2285 - val_categorical_accuracy: 0.9258\n",
      "\n",
      "Epoch 00003: val_categorical_accuracy improved from 0.92344 to 0.92584, saving model to C:/Datasets/scene-classification/models/irnv2_adam_sgdr_v0.1-e03-v0.93-t0.93.hdf5\n",
      "Epoch 4/50\n",
      "493/493 [==============================] - 364s 738ms/step - loss: 0.2465 - categorical_accuracy: 0.9125 - val_loss: 0.4333 - val_categorical_accuracy: 0.8732\n",
      "\n",
      "Epoch 00004: val_categorical_accuracy did not improve from 0.92584\n",
      "Epoch 5/50\n",
      "493/493 [==============================] - 364s 738ms/step - loss: 0.2259 - categorical_accuracy: 0.9180 - val_loss: 0.3738 - val_categorical_accuracy: 0.8884\n",
      "\n",
      "Epoch 00005: val_categorical_accuracy did not improve from 0.92584\n",
      "Epoch 6/50\n",
      "493/493 [==============================] - 368s 746ms/step - loss: 0.1971 - categorical_accuracy: 0.9274 - val_loss: 0.2534 - val_categorical_accuracy: 0.9203\n",
      "\n",
      "Epoch 00006: val_categorical_accuracy did not improve from 0.92584\n",
      "Epoch 7/50\n",
      "493/493 [==============================] - 360s 730ms/step - loss: 0.1785 - categorical_accuracy: 0.9328 - val_loss: 0.2507 - val_categorical_accuracy: 0.9226\n",
      "\n",
      "Epoch 00007: val_categorical_accuracy did not improve from 0.92584\n",
      "Epoch 8/50\n",
      "493/493 [==============================] - 359s 728ms/step - loss: 0.1696 - categorical_accuracy: 0.9380 - val_loss: 0.2600 - val_categorical_accuracy: 0.9234\n",
      "\n",
      "Epoch 00008: val_categorical_accuracy did not improve from 0.92584\n",
      "Epoch 9/50\n",
      "493/493 [==============================] - 359s 728ms/step - loss: 0.2154 - categorical_accuracy: 0.9192 - val_loss: 0.3102 - val_categorical_accuracy: 0.9099\n",
      "\n",
      "Epoch 00009: val_categorical_accuracy did not improve from 0.92584\n",
      "Epoch 10/50\n",
      "493/493 [==============================] - 359s 728ms/step - loss: 0.1984 - categorical_accuracy: 0.9291 - val_loss: 0.3146 - val_categorical_accuracy: 0.9051\n",
      "\n",
      "Epoch 00010: val_categorical_accuracy did not improve from 0.92584\n",
      "Epoch 11/50\n",
      "493/493 [==============================] - 359s 728ms/step - loss: 0.1938 - categorical_accuracy: 0.9293 - val_loss: 0.3276 - val_categorical_accuracy: 0.9123\n",
      "\n",
      "Epoch 00011: val_categorical_accuracy did not improve from 0.92584\n",
      "Epoch 12/50\n",
      "493/493 [==============================] - 358s 726ms/step - loss: 0.1848 - categorical_accuracy: 0.9310 - val_loss: 0.2486 - val_categorical_accuracy: 0.9258\n",
      "\n",
      "Epoch 00012: val_categorical_accuracy did not improve from 0.92584\n",
      "Epoch 13/50\n",
      "493/493 [==============================] - 357s 724ms/step - loss: 0.1674 - categorical_accuracy: 0.9393 - val_loss: 0.2992 - val_categorical_accuracy: 0.9171\n",
      "\n",
      "Epoch 00013: val_categorical_accuracy did not improve from 0.92584\n",
      "Epoch 14/50\n",
      "493/493 [==============================] - 358s 725ms/step - loss: 0.1594 - categorical_accuracy: 0.9414 - val_loss: 0.2622 - val_categorical_accuracy: 0.9250\n",
      "\n",
      "Epoch 00014: val_categorical_accuracy did not improve from 0.92584\n",
      "Epoch 15/50\n",
      "493/493 [==============================] - 357s 724ms/step - loss: 0.1477 - categorical_accuracy: 0.9457 - val_loss: 0.2762 - val_categorical_accuracy: 0.9250\n",
      "\n",
      "Epoch 00015: val_categorical_accuracy did not improve from 0.92584\n",
      "Epoch 16/50\n",
      "493/493 [==============================] - 356s 723ms/step - loss: 0.1494 - categorical_accuracy: 0.9454 - val_loss: 0.2720 - val_categorical_accuracy: 0.9274\n",
      "\n",
      "Epoch 00016: val_categorical_accuracy improved from 0.92584 to 0.92743, saving model to C:/Datasets/scene-classification/models/irnv2_adam_sgdr_v0.1-e16-v0.93-t0.95.hdf5\n",
      "Epoch 17/50\n",
      "493/493 [==============================] - 357s 724ms/step - loss: 0.1772 - categorical_accuracy: 0.9331 - val_loss: 0.2545 - val_categorical_accuracy: 0.9274\n",
      "\n",
      "Epoch 00017: val_categorical_accuracy did not improve from 0.92743\n",
      "Epoch 18/50\n",
      "493/493 [==============================] - 357s 723ms/step - loss: 0.1844 - categorical_accuracy: 0.9318 - val_loss: 0.2950 - val_categorical_accuracy: 0.9147\n",
      "\n",
      "Epoch 00018: val_categorical_accuracy did not improve from 0.92743\n",
      "Epoch 19/50\n",
      "493/493 [==============================] - 356s 721ms/step - loss: 0.1790 - categorical_accuracy: 0.9339 - val_loss: 0.2600 - val_categorical_accuracy: 0.9338\n",
      "\n",
      "Epoch 00019: val_categorical_accuracy improved from 0.92743 to 0.93381, saving model to C:/Datasets/scene-classification/models/irnv2_adam_sgdr_v0.1-e19-v0.93-t0.93.hdf5\n",
      "Epoch 20/50\n",
      "493/493 [==============================] - 355s 721ms/step - loss: 0.1706 - categorical_accuracy: 0.9364 - val_loss: 0.2520 - val_categorical_accuracy: 0.9290\n",
      "\n",
      "Epoch 00020: val_categorical_accuracy did not improve from 0.93381\n",
      "Epoch 21/50\n",
      "493/493 [==============================] - 356s 722ms/step - loss: 0.1597 - categorical_accuracy: 0.9407 - val_loss: 0.2882 - val_categorical_accuracy: 0.9282\n",
      "\n",
      "Epoch 00021: val_categorical_accuracy did not improve from 0.93381\n",
      "Epoch 22/50\n",
      "493/493 [==============================] - 362s 735ms/step - loss: 0.1590 - categorical_accuracy: 0.9408 - val_loss: 0.3269 - val_categorical_accuracy: 0.9051\n",
      "\n",
      "Epoch 00022: val_categorical_accuracy did not improve from 0.93381\n",
      "Epoch 23/50\n",
      "493/493 [==============================] - 374s 758ms/step - loss: 0.1467 - categorical_accuracy: 0.9469 - val_loss: 0.3547 - val_categorical_accuracy: 0.9075\n",
      "\n",
      "Epoch 00023: val_categorical_accuracy did not improve from 0.93381\n",
      "Epoch 24/50\n",
      "493/493 [==============================] - 358s 725ms/step - loss: 0.1455 - categorical_accuracy: 0.9471 - val_loss: 0.2831 - val_categorical_accuracy: 0.9234\n",
      "\n",
      "Epoch 00024: val_categorical_accuracy did not improve from 0.93381\n",
      "Epoch 25/50\n",
      "493/493 [==============================] - 357s 725ms/step - loss: 0.1350 - categorical_accuracy: 0.9475 - val_loss: 0.2960 - val_categorical_accuracy: 0.9242\n",
      "\n",
      "Epoch 00025: val_categorical_accuracy did not improve from 0.93381\n",
      "Epoch 26/50\n",
      "493/493 [==============================] - 356s 723ms/step - loss: 0.1296 - categorical_accuracy: 0.9525 - val_loss: 0.2944 - val_categorical_accuracy: 0.9250\n",
      "\n",
      "Epoch 00026: val_categorical_accuracy did not improve from 0.93381\n",
      "Epoch 27/50\n",
      "493/493 [==============================] - 357s 724ms/step - loss: 0.1314 - categorical_accuracy: 0.9501 - val_loss: 0.3086 - val_categorical_accuracy: 0.9155\n",
      "\n",
      "Epoch 00027: val_categorical_accuracy did not improve from 0.93381\n",
      "Epoch 28/50\n",
      "493/493 [==============================] - 356s 722ms/step - loss: 0.1271 - categorical_accuracy: 0.9509 - val_loss: 0.3108 - val_categorical_accuracy: 0.9155\n",
      "\n",
      "Epoch 00028: val_categorical_accuracy did not improve from 0.93381\n",
      "Epoch 29/50\n",
      "493/493 [==============================] - 357s 723ms/step - loss: 0.1594 - categorical_accuracy: 0.9415 - val_loss: 0.4849 - val_categorical_accuracy: 0.8868\n",
      "\n",
      "Epoch 00029: val_categorical_accuracy did not improve from 0.93381\n",
      "Epoch 30/50\n",
      "493/493 [==============================] - 358s 726ms/step - loss: 0.1639 - categorical_accuracy: 0.9405 - val_loss: 0.3110 - val_categorical_accuracy: 0.9242\n",
      "\n",
      "Epoch 00030: val_categorical_accuracy did not improve from 0.93381\n",
      "Epoch 31/50\n",
      "493/493 [==============================] - 358s 725ms/step - loss: 0.1512 - categorical_accuracy: 0.9442 - val_loss: 0.2995 - val_categorical_accuracy: 0.9274\n",
      "\n",
      "Epoch 00031: val_categorical_accuracy did not improve from 0.93381\n",
      "Epoch 32/50\n",
      "493/493 [==============================] - 358s 726ms/step - loss: 0.1523 - categorical_accuracy: 0.9444 - val_loss: 0.3365 - val_categorical_accuracy: 0.9226\n",
      "\n",
      "Epoch 00032: val_categorical_accuracy did not improve from 0.93381\n",
      "Epoch 33/50\n",
      "493/493 [==============================] - 357s 725ms/step - loss: 0.1516 - categorical_accuracy: 0.9445 - val_loss: 0.3430 - val_categorical_accuracy: 0.9067\n",
      "\n",
      "Epoch 00033: val_categorical_accuracy did not improve from 0.93381\n",
      "Epoch 34/50\n",
      "493/493 [==============================] - 356s 723ms/step - loss: 0.1499 - categorical_accuracy: 0.9439 - val_loss: 0.3367 - val_categorical_accuracy: 0.9075\n",
      "\n",
      "Epoch 00034: val_categorical_accuracy did not improve from 0.93381\n",
      "Epoch 35/50\n",
      "493/493 [==============================] - 357s 724ms/step - loss: 0.1334 - categorical_accuracy: 0.9495 - val_loss: 0.2926 - val_categorical_accuracy: 0.9258\n",
      "\n",
      "Epoch 00035: val_categorical_accuracy did not improve from 0.93381\n",
      "Epoch 36/50\n",
      "493/493 [==============================] - 357s 724ms/step - loss: 0.1422 - categorical_accuracy: 0.9473 - val_loss: 0.3725 - val_categorical_accuracy: 0.9091\n",
      "\n",
      "Epoch 00036: val_categorical_accuracy did not improve from 0.93381\n",
      "Epoch 37/50\n",
      "493/493 [==============================] - 357s 724ms/step - loss: 0.1328 - categorical_accuracy: 0.9516 - val_loss: 0.3701 - val_categorical_accuracy: 0.9051\n",
      "\n",
      "Epoch 00037: val_categorical_accuracy did not improve from 0.93381\n",
      "Epoch 38/50\n",
      "493/493 [==============================] - 357s 725ms/step - loss: 0.1303 - categorical_accuracy: 0.9513 - val_loss: 0.3279 - val_categorical_accuracy: 0.9211\n",
      "\n",
      "Epoch 00038: val_categorical_accuracy did not improve from 0.93381\n",
      "Epoch 39/50\n",
      "493/493 [==============================] - 356s 722ms/step - loss: 0.1214 - categorical_accuracy: 0.9544 - val_loss: 0.3935 - val_categorical_accuracy: 0.9147\n",
      "\n",
      "Epoch 00039: val_categorical_accuracy did not improve from 0.93381\n",
      "Epoch 40/50\n",
      "493/493 [==============================] - 357s 724ms/step - loss: 0.1197 - categorical_accuracy: 0.9571 - val_loss: 0.3581 - val_categorical_accuracy: 0.9163\n",
      "\n",
      "Epoch 00040: val_categorical_accuracy did not improve from 0.93381\n",
      "Epoch 41/50\n",
      "493/493 [==============================] - 358s 727ms/step - loss: 0.1153 - categorical_accuracy: 0.9566 - val_loss: 0.3690 - val_categorical_accuracy: 0.9075\n",
      "\n",
      "Epoch 00041: val_categorical_accuracy did not improve from 0.93381\n",
      "Epoch 42/50\n",
      "493/493 [==============================] - 356s 722ms/step - loss: 0.1040 - categorical_accuracy: 0.9594 - val_loss: 0.4000 - val_categorical_accuracy: 0.9107\n",
      "\n",
      "Epoch 00042: val_categorical_accuracy did not improve from 0.93381\n",
      "Epoch 43/50\n",
      "493/493 [==============================] - 357s 724ms/step - loss: 0.1127 - categorical_accuracy: 0.9577 - val_loss: 0.3436 - val_categorical_accuracy: 0.9203\n",
      "\n",
      "Epoch 00043: val_categorical_accuracy did not improve from 0.93381\n",
      "Epoch 44/50\n",
      "493/493 [==============================] - 356s 721ms/step - loss: 0.1017 - categorical_accuracy: 0.9622 - val_loss: 0.3484 - val_categorical_accuracy: 0.9179\n",
      "\n",
      "Epoch 00044: val_categorical_accuracy did not improve from 0.93381\n",
      "Epoch 45/50\n",
      "493/493 [==============================] - 355s 720ms/step - loss: 0.1062 - categorical_accuracy: 0.9614 - val_loss: 0.3492 - val_categorical_accuracy: 0.9171\n",
      "\n",
      "Epoch 00045: val_categorical_accuracy did not improve from 0.93381\n",
      "Epoch 46/50\n",
      "493/493 [==============================] - 357s 724ms/step - loss: 0.1039 - categorical_accuracy: 0.9611 - val_loss: 0.3529 - val_categorical_accuracy: 0.9163\n",
      "\n",
      "Epoch 00046: val_categorical_accuracy did not improve from 0.93381\n",
      "Epoch 47/50\n",
      "493/493 [==============================] - 358s 726ms/step - loss: 0.1376 - categorical_accuracy: 0.9483 - val_loss: 0.3688 - val_categorical_accuracy: 0.9019\n",
      "\n",
      "Epoch 00047: val_categorical_accuracy did not improve from 0.93381\n",
      "Epoch 48/50\n",
      "493/493 [==============================] - 358s 725ms/step - loss: 0.1323 - categorical_accuracy: 0.9494 - val_loss: 0.3142 - val_categorical_accuracy: 0.9187\n",
      "\n",
      "Epoch 00048: val_categorical_accuracy did not improve from 0.93381\n",
      "Epoch 49/50\n",
      "493/493 [==============================] - 356s 722ms/step - loss: 0.1428 - categorical_accuracy: 0.9473 - val_loss: 0.3567 - val_categorical_accuracy: 0.9107\n",
      "\n",
      "Epoch 00049: val_categorical_accuracy did not improve from 0.93381\n",
      "Epoch 50/50\n",
      "493/493 [==============================] - 356s 722ms/step - loss: 0.1382 - categorical_accuracy: 0.9485 - val_loss: 0.3504 - val_categorical_accuracy: 0.9035\n",
      "\n",
      "Epoch 00050: val_categorical_accuracy did not improve from 0.93381\n"
     ]
    },
    {
     "data": {
      "text/plain": [
       "<keras.callbacks.History at 0x272c436f748>"
      ]
     },
     "execution_count": 14,
     "metadata": {},
     "output_type": "execute_result"
    }
   ],
   "source": [
    "model.fit_generator(generator=train_generator,\n",
    "                    steps_per_epoch=STEP_SIZE_TRAIN,\n",
    "                    validation_data=(x_val, y_val),\n",
    "                    validation_steps=STEP_SIZE_VALID,\n",
    "                    callbacks=[schedule, checkpoint, tboard],\n",
    "                    epochs=50,\n",
    "                    verbose=1\n",
    "                   )"
   ]
  },
  {
   "cell_type": "code",
   "execution_count": null,
   "metadata": {},
   "outputs": [],
   "source": []
  }
 ],
 "metadata": {
  "kernelspec": {
   "display_name": "TensorFlow-GPU",
   "language": "python",
   "name": "tf-gpu"
  },
  "language_info": {
   "codemirror_mode": {
    "name": "ipython",
    "version": 3
   },
   "file_extension": ".py",
   "mimetype": "text/x-python",
   "name": "python",
   "nbconvert_exporter": "python",
   "pygments_lexer": "ipython3",
   "version": "3.6.7"
  }
 },
 "nbformat": 4,
 "nbformat_minor": 2
}
