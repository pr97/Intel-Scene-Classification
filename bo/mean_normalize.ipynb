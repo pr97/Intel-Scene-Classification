{
 "cells": [
  {
   "cell_type": "code",
   "execution_count": 1,
   "metadata": {},
   "outputs": [
    {
     "name": "stderr",
     "output_type": "stream",
     "text": [
      "Using TensorFlow backend.\n"
     ]
    }
   ],
   "source": [
    "from keras.applications.inception_resnet_v2 import InceptionResNetV2\n",
    "from keras.models import load_model, Model, Sequential\n",
    "from keras.layers import Input, Dense\n",
    "from keras.preprocessing import image\n",
    "from keras.applications.inception_resnet_v2 import preprocess_input, decode_predictions\n",
    "\n",
    "import numpy as np\n",
    "from keras.utils.np_utils import to_categorical\n",
    "import glob\n",
    "import os"
   ]
  },
  {
   "cell_type": "code",
   "execution_count": 2,
   "metadata": {},
   "outputs": [],
   "source": [
    "categories = ['0_buildings', '1_forest', '2_glacier', '3_mountain', '4_sea', '5_street']"
   ]
  },
  {
   "cell_type": "code",
   "execution_count": 3,
   "metadata": {},
   "outputs": [],
   "source": [
    "train_datagen = image.ImageDataGenerator(preprocessing_function=preprocess_input,\n",
    "                                         rotation_range=10,\n",
    "                                         width_shift_range=0.2,\n",
    "                                         height_shift_range=0.2,\n",
    "                                         shear_range=0.01,\n",
    "                                         zoom_range=[0.9, 1.25],\n",
    "                                         horizontal_flip=True,\n",
    "                                         vertical_flip=False,\n",
    "                                         data_format='channels_last',\n",
    "                                         brightness_range=[0.8, 1.2]\n",
    "                                         )"
   ]
  },
  {
   "cell_type": "code",
   "execution_count": 4,
   "metadata": {},
   "outputs": [
    {
     "name": "stdout",
     "output_type": "stream",
     "text": [
      "Found 17034 images belonging to 6 classes.\n"
     ]
    }
   ],
   "source": [
    "train_generator = train_datagen.flow_from_directory(\n",
    "    directory='C:/Datasets/scene-classification/data_augment/train/',\n",
    "    target_size=(299, 299),\n",
    "    color_mode='rgb',\n",
    "    batch_size=32,\n",
    "    class_mode='categorical',\n",
    "    shuffle=True,\n",
    "    seed=42\n",
    ")"
   ]
  },
  {
   "cell_type": "markdown",
   "metadata": {},
   "source": [
    "```python\n",
    "valid_datagen = image.ImageDataGenerator(rotation_range=10,\n",
    "                                         width_shift_range=0.2, \n",
    "                                         height_shift_range=0.2,\n",
    "                                         shear_range=0.01,\n",
    "                                         zoom_range=[0.9, 1.25],\n",
    "                                         horizontal_flip=True,\n",
    "                                         vertical_flip=False,\n",
    "                                         data_format='channels_last',\n",
    "                                         brightness_range=[0.8, 1.2]\n",
    "                                         )\n",
    "```"
   ]
  },
  {
   "cell_type": "markdown",
   "metadata": {},
   "source": [
    "```python\n",
    "valid_generator = valid_datagen.flow_from_directory(\n",
    "    directory='C:/Datasets/scene-classification/data/valid/',\n",
    "    target_size=(299, 299),\n",
    "    color_mode='rgb',\n",
    "    batch_size=32,\n",
    "    class_mode='categorical',\n",
    "    shuffle=True,\n",
    "    seed=42\n",
    ")\n",
    "```"
   ]
  },
  {
   "cell_type": "code",
   "execution_count": 5,
   "metadata": {},
   "outputs": [],
   "source": [
    "STEP_SIZE_TRAIN = train_generator.n // train_generator.batch_size\n",
    "# STEP_SIZE_VALID = valid_generator.n // valid_generator.batch_size"
   ]
  },
  {
   "cell_type": "code",
   "execution_count": null,
   "metadata": {},
   "outputs": [],
   "source": [
    "input_tensor = Input(shape=(299, 299, 3))\n",
    "base_model = InceptionResNetV2(include_top=False, weights='imagenet', input_tensor=input_tensor, input_shape=(299, 299, 3), pooling='avg', classes=1000)"
   ]
  },
  {
   "cell_type": "code",
   "execution_count": 7,
   "metadata": {},
   "outputs": [],
   "source": [
    "for layer in base_model.layers[:-13]:\n",
    "    layer.trainable = False"
   ]
  },
  {
   "cell_type": "code",
   "execution_count": 8,
   "metadata": {},
   "outputs": [],
   "source": [
    "t = base_model(input_tensor)\n",
    "output_tensor = Dense(len(categories), activation='softmax')(t)\n",
    "model = Model(inputs=input_tensor, outputs=output_tensor)"
   ]
  },
  {
   "cell_type": "code",
   "execution_count": 9,
   "metadata": {},
   "outputs": [
    {
     "name": "stdout",
     "output_type": "stream",
     "text": [
      "_________________________________________________________________\n",
      "Layer (type)                 Output Shape              Param #   \n",
      "=================================================================\n",
      "input_1 (InputLayer)         (None, 299, 299, 3)       0         \n",
      "_________________________________________________________________\n",
      "inception_resnet_v2 (Model)  (None, 1536)              54336736  \n",
      "_________________________________________________________________\n",
      "dense_1 (Dense)              (None, 6)                 9222      \n",
      "=================================================================\n",
      "Total params: 54,345,958\n",
      "Trainable params: 4,711,398\n",
      "Non-trainable params: 49,634,560\n",
      "_________________________________________________________________\n"
     ]
    }
   ],
   "source": [
    "model.summary()"
   ]
  },
  {
   "cell_type": "code",
   "execution_count": 6,
   "metadata": {},
   "outputs": [],
   "source": [
    "model = load_model('C:/Datasets/scene-classification/models/irnv2_v3_adam-contrain-v1-03-0.97.hdf5')"
   ]
  },
  {
   "cell_type": "code",
   "execution_count": 7,
   "metadata": {},
   "outputs": [],
   "source": [
    "from keras.optimizers import Adam\n",
    "from keras.callbacks import TensorBoard, ModelCheckpoint"
   ]
  },
  {
   "cell_type": "markdown",
   "metadata": {},
   "source": [
    "```python\n",
    "model.compile(loss='categorical_crossentropy', optimizer=Adam(lr=1e-3, decay=1e-6), metrics=['categorical_accuracy'])\n",
    "```"
   ]
  },
  {
   "cell_type": "code",
   "execution_count": 8,
   "metadata": {},
   "outputs": [],
   "source": [
    "file_path = 'C:/Datasets/scene-classification/models/'\n",
    "model_name = 'irnv2_v3_adam-contrain-v1.1-{epoch:02d}-{categorical_accuracy:.2f}.hdf5'\n",
    "checkpoint = ModelCheckpoint(file_path + model_name, monitor='categorical_accuracy', save_best_only=True, verbose=1, mode='max')"
   ]
  },
  {
   "cell_type": "code",
   "execution_count": 9,
   "metadata": {},
   "outputs": [],
   "source": [
    "tb = TensorBoard(log_dir='C:/Datasets/scene-classification/logs/')"
   ]
  },
  {
   "cell_type": "code",
   "execution_count": 10,
   "metadata": {},
   "outputs": [
    {
     "name": "stdout",
     "output_type": "stream",
     "text": [
      "Epoch 1/10\n",
      "532/532 [==============================] - 403s 757ms/step - loss: 0.0833 - categorical_accuracy: 0.9695\n",
      "\n",
      "Epoch 00001: categorical_accuracy improved from -inf to 0.96942, saving model to C:/Datasets/scene-classification/models/irnv2_v3_adam-contrain-v1.1-01-0.97.hdf5\n",
      "Epoch 2/10\n",
      "532/532 [==============================] - 385s 724ms/step - loss: 0.0856 - categorical_accuracy: 0.9680\n",
      "\n",
      "Epoch 00002: categorical_accuracy did not improve from 0.96942\n",
      "Epoch 3/10\n",
      "532/532 [==============================] - 393s 739ms/step - loss: 0.0825 - categorical_accuracy: 0.9688\n",
      "\n",
      "Epoch 00003: categorical_accuracy did not improve from 0.96942\n",
      "Epoch 4/10\n",
      "532/532 [==============================] - 383s 719ms/step - loss: 0.0873 - categorical_accuracy: 0.9677\n",
      "\n",
      "Epoch 00004: categorical_accuracy did not improve from 0.96942\n",
      "Epoch 5/10\n",
      "532/532 [==============================] - 384s 722ms/step - loss: 0.0830 - categorical_accuracy: 0.9679\n",
      "\n",
      "Epoch 00005: categorical_accuracy did not improve from 0.96942\n",
      "Epoch 6/10\n",
      "532/532 [==============================] - 382s 718ms/step - loss: 0.0831 - categorical_accuracy: 0.9686\n",
      "\n",
      "Epoch 00006: categorical_accuracy did not improve from 0.96942\n",
      "Epoch 7/10\n",
      "532/532 [==============================] - 396s 744ms/step - loss: 0.0822 - categorical_accuracy: 0.9698\n",
      "\n",
      "Epoch 00007: categorical_accuracy improved from 0.96942 to 0.96977, saving model to C:/Datasets/scene-classification/models/irnv2_v3_adam-contrain-v1.1-07-0.97.hdf5\n",
      "Epoch 8/10\n",
      "532/532 [==============================] - 373s 702ms/step - loss: 0.0769 - categorical_accuracy: 0.9716\n",
      "\n",
      "Epoch 00008: categorical_accuracy improved from 0.96977 to 0.97171, saving model to C:/Datasets/scene-classification/models/irnv2_v3_adam-contrain-v1.1-08-0.97.hdf5\n",
      "Epoch 9/10\n",
      "532/532 [==============================] - 376s 707ms/step - loss: 0.0776 - categorical_accuracy: 0.9710\n",
      "\n",
      "Epoch 00009: categorical_accuracy did not improve from 0.97171\n",
      "Epoch 10/10\n",
      "532/532 [==============================] - 370s 696ms/step - loss: 0.0775 - categorical_accuracy: 0.9734\n",
      "\n",
      "Epoch 00010: categorical_accuracy improved from 0.97171 to 0.97341, saving model to C:/Datasets/scene-classification/models/irnv2_v3_adam-contrain-v1.1-10-0.97.hdf5\n"
     ]
    },
    {
     "data": {
      "text/plain": [
       "<keras.callbacks.History at 0x1eaf55005f8>"
      ]
     },
     "execution_count": 10,
     "metadata": {},
     "output_type": "execute_result"
    }
   ],
   "source": [
    "model.fit_generator(generator=train_generator,\n",
    "                    steps_per_epoch=STEP_SIZE_TRAIN,\n",
    "                    callbacks=[checkpoint, tb],\n",
    "                    epochs=10,\n",
    "                    verbose=1)"
   ]
  },
  {
   "cell_type": "markdown",
   "metadata": {},
   "source": [
    "__Overfit the first model first, improve later__\n",
    "<br>\n",
    "Highest accuracy reached by t96% IRNv2: T92.9%\n",
    "<br>\n",
    "Stochastic Gradient Descent with warm restarts, train 1, get n, snapshot method, and Ensemble.\n",
    "<br>\n",
    "> Make confusion matrix, add class balances if required.\n",
    "<br>\n",
    "> Confusion matrix shows most discrepancy in glacier-mountain classification\n",
    "<br>\n",
    "> Make separate glacier-mountain classifier\n",
    "<br>\n",
    "\n",
    "Replace Adam with Stochastic Gradient Descent with warm restarts.\n",
    "<br>\n",
    "LeakyRelu / randomized leaky relu has noticeable impacts\n",
    "<br>\n",
    "Start testing on Google Colab.\n",
    "<br>\n",
    "Add more dense layers.\n",
    "<br>\n",
    "Train xgboost on last layer features from a variety of different classifiers.\n",
    "<br>\n",
    "More variation required in brightness\n",
    "<br>\n",
    "__Do not__ vary hue.\n",
    "\n",
    "## To do:\n",
    "Remove random rotations, I don't think it's helping\n",
    "1. Change optimizer, set learning rate.\n",
    "2. Find optimal batch size\n",
    "3. ???"
   ]
  },
  {
   "cell_type": "code",
   "execution_count": 11,
   "metadata": {},
   "outputs": [],
   "source": [
    "model_name = 'irnv2_v3_adam-contrain-v1.2-{epoch:02d}-{categorical_accuracy:.2f}.hdf5'"
   ]
  },
  {
   "cell_type": "code",
   "execution_count": 12,
   "metadata": {},
   "outputs": [
    {
     "name": "stdout",
     "output_type": "stream",
     "text": [
      "Epoch 1/40\n",
      "532/532 [==============================] - 374s 703ms/step - loss: 0.0714 - categorical_accuracy: 0.9739\n",
      "\n",
      "Epoch 00001: categorical_accuracy improved from 0.97341 to 0.97383, saving model to C:/Datasets/scene-classification/models/irnv2_v3_adam-contrain-v1.1-01-0.97.hdf5\n",
      "Epoch 2/40\n",
      "532/532 [==============================] - 372s 700ms/step - loss: 0.0802 - categorical_accuracy: 0.9709\n",
      "\n",
      "Epoch 00002: categorical_accuracy did not improve from 0.97383\n",
      "Epoch 3/40\n",
      "532/532 [==============================] - 371s 698ms/step - loss: 0.0707 - categorical_accuracy: 0.9749\n",
      "\n",
      "Epoch 00003: categorical_accuracy improved from 0.97383 to 0.97489, saving model to C:/Datasets/scene-classification/models/irnv2_v3_adam-contrain-v1.1-03-0.97.hdf5\n",
      "Epoch 4/40\n",
      "532/532 [==============================] - 371s 698ms/step - loss: 0.0770 - categorical_accuracy: 0.9743\n",
      "\n",
      "Epoch 00004: categorical_accuracy did not improve from 0.97489\n",
      "Epoch 5/40\n",
      "532/532 [==============================] - 372s 699ms/step - loss: 0.0764 - categorical_accuracy: 0.9726\n",
      "\n",
      "Epoch 00005: categorical_accuracy did not improve from 0.97489\n",
      "Epoch 6/40\n",
      "532/532 [==============================] - 373s 702ms/step - loss: 0.0683 - categorical_accuracy: 0.9740\n",
      "\n",
      "Epoch 00006: categorical_accuracy did not improve from 0.97489\n",
      "Epoch 7/40\n",
      "532/532 [==============================] - 373s 702ms/step - loss: 0.0681 - categorical_accuracy: 0.9753\n",
      "\n",
      "Epoch 00007: categorical_accuracy improved from 0.97489 to 0.97524, saving model to C:/Datasets/scene-classification/models/irnv2_v3_adam-contrain-v1.1-07-0.98.hdf5\n",
      "Epoch 8/40\n",
      "532/532 [==============================] - 372s 699ms/step - loss: 0.0666 - categorical_accuracy: 0.9749\n",
      "\n",
      "Epoch 00008: categorical_accuracy did not improve from 0.97524\n",
      "Epoch 9/40\n",
      "532/532 [==============================] - 372s 700ms/step - loss: 0.0692 - categorical_accuracy: 0.9753\n",
      "\n",
      "Epoch 00009: categorical_accuracy improved from 0.97524 to 0.97530, saving model to C:/Datasets/scene-classification/models/irnv2_v3_adam-contrain-v1.1-09-0.98.hdf5\n",
      "Epoch 10/40\n",
      "532/532 [==============================] - 374s 703ms/step - loss: 0.0674 - categorical_accuracy: 0.9765\n",
      "\n",
      "Epoch 00010: categorical_accuracy improved from 0.97530 to 0.97647, saving model to C:/Datasets/scene-classification/models/irnv2_v3_adam-contrain-v1.1-10-0.98.hdf5\n",
      "Epoch 11/40\n",
      "532/532 [==============================] - 371s 697ms/step - loss: 0.0649 - categorical_accuracy: 0.9767\n",
      "\n",
      "Epoch 00011: categorical_accuracy improved from 0.97647 to 0.97665, saving model to C:/Datasets/scene-classification/models/irnv2_v3_adam-contrain-v1.1-11-0.98.hdf5\n",
      "Epoch 12/40\n",
      "532/532 [==============================] - 372s 699ms/step - loss: 0.0639 - categorical_accuracy: 0.9770\n",
      "\n",
      "Epoch 00012: categorical_accuracy improved from 0.97665 to 0.97694, saving model to C:/Datasets/scene-classification/models/irnv2_v3_adam-contrain-v1.1-12-0.98.hdf5\n",
      "Epoch 13/40\n",
      "532/532 [==============================] - 370s 696ms/step - loss: 0.0654 - categorical_accuracy: 0.9777\n",
      "\n",
      "Epoch 00013: categorical_accuracy improved from 0.97694 to 0.97771, saving model to C:/Datasets/scene-classification/models/irnv2_v3_adam-contrain-v1.1-13-0.98.hdf5\n",
      "Epoch 14/40\n",
      "532/532 [==============================] - 371s 697ms/step - loss: 0.0578 - categorical_accuracy: 0.9793\n",
      "\n",
      "Epoch 00014: categorical_accuracy improved from 0.97771 to 0.97936, saving model to C:/Datasets/scene-classification/models/irnv2_v3_adam-contrain-v1.1-14-0.98.hdf5\n",
      "Epoch 15/40\n",
      "532/532 [==============================] - 372s 699ms/step - loss: 0.0625 - categorical_accuracy: 0.9779\n",
      "\n",
      "Epoch 00015: categorical_accuracy did not improve from 0.97936\n",
      "Epoch 16/40\n",
      "532/532 [==============================] - 372s 699ms/step - loss: 0.0604 - categorical_accuracy: 0.9800\n",
      "\n",
      "Epoch 00016: categorical_accuracy improved from 0.97936 to 0.98000, saving model to C:/Datasets/scene-classification/models/irnv2_v3_adam-contrain-v1.1-16-0.98.hdf5\n",
      "Epoch 17/40\n",
      "532/532 [==============================] - 375s 705ms/step - loss: 0.0618 - categorical_accuracy: 0.9773\n",
      "\n",
      "Epoch 00017: categorical_accuracy did not improve from 0.98000\n",
      "Epoch 18/40\n",
      "532/532 [==============================] - 449s 844ms/step - loss: 0.0568 - categorical_accuracy: 0.9793\n",
      "\n",
      "Epoch 00018: categorical_accuracy did not improve from 0.98000\n",
      "Epoch 19/40\n",
      "532/532 [==============================] - 434s 815ms/step - loss: 0.0590 - categorical_accuracy: 0.9795\n",
      "\n",
      "Epoch 00019: categorical_accuracy did not improve from 0.98000\n",
      "Epoch 20/40\n",
      "532/532 [==============================] - 420s 789ms/step - loss: 0.0583 - categorical_accuracy: 0.9786\n",
      "\n",
      "Epoch 00020: categorical_accuracy did not improve from 0.98000\n",
      "Epoch 21/40\n",
      "532/532 [==============================] - 474s 891ms/step - loss: 0.0610 - categorical_accuracy: 0.9779\n",
      "\n",
      "Epoch 00021: categorical_accuracy did not improve from 0.98000\n",
      "Epoch 22/40\n",
      "532/532 [==============================] - 383s 719ms/step - loss: 0.0546 - categorical_accuracy: 0.9805\n",
      "\n",
      "Epoch 00022: categorical_accuracy improved from 0.98000 to 0.98047, saving model to C:/Datasets/scene-classification/models/irnv2_v3_adam-contrain-v1.1-22-0.98.hdf5\n",
      "Epoch 23/40\n",
      "532/532 [==============================] - 377s 708ms/step - loss: 0.0572 - categorical_accuracy: 0.9782\n",
      "\n",
      "Epoch 00023: categorical_accuracy did not improve from 0.98047\n",
      "Epoch 24/40\n",
      "532/532 [==============================] - 379s 712ms/step - loss: 0.0574 - categorical_accuracy: 0.9811\n",
      "\n",
      "Epoch 00024: categorical_accuracy improved from 0.98047 to 0.98112, saving model to C:/Datasets/scene-classification/models/irnv2_v3_adam-contrain-v1.1-24-0.98.hdf5\n",
      "Epoch 25/40\n",
      "532/532 [==============================] - 379s 713ms/step - loss: 0.0496 - categorical_accuracy: 0.9820\n",
      "\n",
      "Epoch 00025: categorical_accuracy improved from 0.98112 to 0.98194, saving model to C:/Datasets/scene-classification/models/irnv2_v3_adam-contrain-v1.1-25-0.98.hdf5\n",
      "Epoch 26/40\n",
      "532/532 [==============================] - 381s 716ms/step - loss: 0.0524 - categorical_accuracy: 0.9810\n",
      "\n",
      "Epoch 00026: categorical_accuracy did not improve from 0.98194\n",
      "Epoch 27/40\n",
      "532/532 [==============================] - 378s 710ms/step - loss: 0.0520 - categorical_accuracy: 0.9817\n",
      "\n",
      "Epoch 00027: categorical_accuracy did not improve from 0.98194\n",
      "Epoch 28/40\n",
      "532/532 [==============================] - 380s 714ms/step - loss: 0.0511 - categorical_accuracy: 0.9817\n",
      "\n",
      "Epoch 00028: categorical_accuracy did not improve from 0.98194\n",
      "Epoch 29/40\n",
      "532/532 [==============================] - 378s 710ms/step - loss: 0.0506 - categorical_accuracy: 0.9817\n",
      "\n",
      "Epoch 00029: categorical_accuracy did not improve from 0.98194\n",
      "Epoch 30/40\n",
      "532/532 [==============================] - 402s 755ms/step - loss: 0.0525 - categorical_accuracy: 0.9812\n",
      "\n",
      "Epoch 00030: categorical_accuracy did not improve from 0.98194\n",
      "Epoch 31/40\n",
      "532/532 [==============================] - 382s 718ms/step - loss: 0.0528 - categorical_accuracy: 0.9806\n",
      "\n",
      "Epoch 00031: categorical_accuracy did not improve from 0.98194\n",
      "Epoch 32/40\n",
      "532/532 [==============================] - 382s 719ms/step - loss: 0.0463 - categorical_accuracy: 0.9843\n",
      "\n",
      "Epoch 00032: categorical_accuracy improved from 0.98194 to 0.98424, saving model to C:/Datasets/scene-classification/models/irnv2_v3_adam-contrain-v1.1-32-0.98.hdf5\n",
      "Epoch 33/40\n",
      "532/532 [==============================] - 381s 716ms/step - loss: 0.0535 - categorical_accuracy: 0.9814\n",
      "\n",
      "Epoch 00033: categorical_accuracy did not improve from 0.98424\n",
      "Epoch 34/40\n",
      "532/532 [==============================] - 383s 720ms/step - loss: 0.0477 - categorical_accuracy: 0.9828\n",
      "\n",
      "Epoch 00034: categorical_accuracy did not improve from 0.98424\n",
      "Epoch 35/40\n",
      "532/532 [==============================] - 383s 720ms/step - loss: 0.0481 - categorical_accuracy: 0.9833\n",
      "\n",
      "Epoch 00035: categorical_accuracy did not improve from 0.98424\n",
      "Epoch 36/40\n",
      "532/532 [==============================] - 382s 718ms/step - loss: 0.0464 - categorical_accuracy: 0.9824\n",
      "\n",
      "Epoch 00036: categorical_accuracy did not improve from 0.98424\n",
      "Epoch 37/40\n",
      "532/532 [==============================] - 382s 719ms/step - loss: 0.0464 - categorical_accuracy: 0.9841\n",
      "\n",
      "Epoch 00037: categorical_accuracy did not improve from 0.98424\n",
      "Epoch 38/40\n",
      "532/532 [==============================] - 382s 718ms/step - loss: 0.0450 - categorical_accuracy: 0.9834\n",
      "\n",
      "Epoch 00038: categorical_accuracy did not improve from 0.98424\n",
      "Epoch 39/40\n",
      "532/532 [==============================] - 383s 719ms/step - loss: 0.0474 - categorical_accuracy: 0.9826\n",
      "\n",
      "Epoch 00039: categorical_accuracy did not improve from 0.98424\n",
      "Epoch 40/40\n",
      "532/532 [==============================] - 382s 718ms/step - loss: 0.0429 - categorical_accuracy: 0.9843\n",
      "\n",
      "Epoch 00040: categorical_accuracy improved from 0.98424 to 0.98430, saving model to C:/Datasets/scene-classification/models/irnv2_v3_adam-contrain-v1.1-40-0.98.hdf5\n"
     ]
    },
    {
     "data": {
      "text/plain": [
       "<keras.callbacks.History at 0x1eb2d043f60>"
      ]
     },
     "execution_count": 12,
     "metadata": {},
     "output_type": "execute_result"
    }
   ],
   "source": [
    "model.fit_generator(generator=train_generator,\n",
    "                    steps_per_epoch=STEP_SIZE_TRAIN,\n",
    "                    callbacks=[checkpoint, tb],\n",
    "                    epochs=40,\n",
    "                    verbose=1)"
   ]
  },
  {
   "cell_type": "code",
   "execution_count": 13,
   "metadata": {},
   "outputs": [],
   "source": [
    "model_name = 'irnv2_v3_adam-contrain-v1.2-{epoch:02d}-{categorical_accuracy:.2f}.hdf5'\n",
    "checkpoint = ModelCheckpoint(file_path + model_name, monitor='categorical_accuracy', save_best_only=True, verbose=1, mode='max')"
   ]
  },
  {
   "cell_type": "code",
   "execution_count": 14,
   "metadata": {},
   "outputs": [
    {
     "name": "stdout",
     "output_type": "stream",
     "text": [
      "Epoch 1/40\n",
      "532/532 [==============================] - 381s 717ms/step - loss: 0.0421 - categorical_accuracy: 0.9851\n",
      "\n",
      "Epoch 00001: categorical_accuracy improved from -inf to 0.98518, saving model to C:/Datasets/scene-classification/models/irnv2_v3_adam-contrain-v1.2-01-0.99.hdf5\n",
      "Epoch 2/40\n",
      "532/532 [==============================] - 383s 720ms/step - loss: 0.0467 - categorical_accuracy: 0.9834\n",
      "\n",
      "Epoch 00002: categorical_accuracy did not improve from 0.98518\n",
      "Epoch 3/40\n",
      "532/532 [==============================] - 380s 715ms/step - loss: 0.0465 - categorical_accuracy: 0.9838\n",
      "\n",
      "Epoch 00003: categorical_accuracy did not improve from 0.98518\n",
      "Epoch 4/40\n",
      "532/532 [==============================] - 383s 720ms/step - loss: 0.0421 - categorical_accuracy: 0.9854\n",
      "\n",
      "Epoch 00004: categorical_accuracy improved from 0.98518 to 0.98541, saving model to C:/Datasets/scene-classification/models/irnv2_v3_adam-contrain-v1.2-04-0.99.hdf5\n",
      "Epoch 5/40\n",
      "532/532 [==============================] - 381s 717ms/step - loss: 0.0415 - categorical_accuracy: 0.9861\n",
      "\n",
      "Epoch 00005: categorical_accuracy improved from 0.98541 to 0.98612, saving model to C:/Datasets/scene-classification/models/irnv2_v3_adam-contrain-v1.2-05-0.99.hdf5\n",
      "Epoch 6/40\n",
      "532/532 [==============================] - 382s 718ms/step - loss: 0.0448 - categorical_accuracy: 0.9843\n",
      "\n",
      "Epoch 00006: categorical_accuracy did not improve from 0.98612\n",
      "Epoch 7/40\n",
      "532/532 [==============================] - 381s 716ms/step - loss: 0.0392 - categorical_accuracy: 0.9858\n",
      "\n",
      "Epoch 00007: categorical_accuracy did not improve from 0.98612\n",
      "Epoch 8/40\n",
      "532/532 [==============================] - 382s 719ms/step - loss: 0.0398 - categorical_accuracy: 0.9856\n",
      "\n",
      "Epoch 00008: categorical_accuracy did not improve from 0.98612\n",
      "Epoch 9/40\n",
      "532/532 [==============================] - 381s 716ms/step - loss: 0.0418 - categorical_accuracy: 0.9845\n",
      "\n",
      "Epoch 00009: categorical_accuracy did not improve from 0.98612\n",
      "Epoch 10/40\n",
      "532/532 [==============================] - 383s 720ms/step - loss: 0.0394 - categorical_accuracy: 0.9870\n",
      "\n",
      "Epoch 00010: categorical_accuracy improved from 0.98612 to 0.98700, saving model to C:/Datasets/scene-classification/models/irnv2_v3_adam-contrain-v1.2-10-0.99.hdf5\n",
      "Epoch 11/40\n",
      "532/532 [==============================] - 381s 717ms/step - loss: 0.0395 - categorical_accuracy: 0.9867\n",
      "\n",
      "Epoch 00011: categorical_accuracy did not improve from 0.98700\n",
      "Epoch 12/40\n",
      "532/532 [==============================] - 382s 717ms/step - loss: 0.0427 - categorical_accuracy: 0.9852\n",
      "\n",
      "Epoch 00012: categorical_accuracy did not improve from 0.98700\n",
      "Epoch 13/40\n",
      "532/532 [==============================] - 380s 714ms/step - loss: 0.0381 - categorical_accuracy: 0.9865\n",
      "\n",
      "Epoch 00013: categorical_accuracy did not improve from 0.98700\n",
      "Epoch 14/40\n",
      "532/532 [==============================] - 382s 718ms/step - loss: 0.0415 - categorical_accuracy: 0.9863\n",
      "\n",
      "Epoch 00014: categorical_accuracy did not improve from 0.98700\n",
      "Epoch 15/40\n",
      "532/532 [==============================] - 381s 716ms/step - loss: 0.0419 - categorical_accuracy: 0.9854\n",
      "\n",
      "Epoch 00015: categorical_accuracy did not improve from 0.98700\n",
      "Epoch 16/40\n",
      "532/532 [==============================] - 381s 715ms/step - loss: 0.0393 - categorical_accuracy: 0.9870\n",
      "\n",
      "Epoch 00016: categorical_accuracy did not improve from 0.98700\n",
      "Epoch 17/40\n",
      "532/532 [==============================] - 379s 713ms/step - loss: 0.0398 - categorical_accuracy: 0.9862\n",
      "\n",
      "Epoch 00017: categorical_accuracy did not improve from 0.98700\n",
      "Epoch 18/40\n",
      "532/532 [==============================] - 381s 716ms/step - loss: 0.0387 - categorical_accuracy: 0.9869\n",
      "\n",
      "Epoch 00018: categorical_accuracy did not improve from 0.98700\n",
      "Epoch 19/40\n",
      "532/532 [==============================] - 380s 715ms/step - loss: 0.0385 - categorical_accuracy: 0.9864\n",
      "\n",
      "Epoch 00019: categorical_accuracy did not improve from 0.98700\n",
      "Epoch 20/40\n",
      "532/532 [==============================] - 380s 715ms/step - loss: 0.0396 - categorical_accuracy: 0.9862\n",
      "\n",
      "Epoch 00020: categorical_accuracy did not improve from 0.98700\n",
      "Epoch 21/40\n",
      "532/532 [==============================] - 381s 715ms/step - loss: 0.0326 - categorical_accuracy: 0.9884\n",
      "\n",
      "Epoch 00021: categorical_accuracy improved from 0.98700 to 0.98841, saving model to C:/Datasets/scene-classification/models/irnv2_v3_adam-contrain-v1.2-21-0.99.hdf5\n",
      "Epoch 22/40\n",
      "532/532 [==============================] - 382s 718ms/step - loss: 0.0394 - categorical_accuracy: 0.9865\n",
      "\n",
      "Epoch 00022: categorical_accuracy did not improve from 0.98841\n",
      "Epoch 23/40\n",
      "532/532 [==============================] - 437s 822ms/step - loss: 0.0373 - categorical_accuracy: 0.9875\n",
      "\n",
      "Epoch 00023: categorical_accuracy did not improve from 0.98841\n",
      "Epoch 24/40\n",
      "532/532 [==============================] - 433s 814ms/step - loss: 0.0335 - categorical_accuracy: 0.9881\n",
      "\n",
      "Epoch 00024: categorical_accuracy did not improve from 0.98841\n",
      "Epoch 25/40\n",
      "532/532 [==============================] - 457s 860ms/step - loss: 0.0347 - categorical_accuracy: 0.9884\n",
      "\n",
      "Epoch 00025: categorical_accuracy improved from 0.98841 to 0.98843, saving model to C:/Datasets/scene-classification/models/irnv2_v3_adam-contrain-v1.2-25-0.99.hdf5\n",
      "Epoch 26/40\n",
      "532/532 [==============================] - 443s 833ms/step - loss: 0.0384 - categorical_accuracy: 0.9868\n",
      "\n",
      "Epoch 00026: categorical_accuracy did not improve from 0.98843\n",
      "Epoch 27/40\n",
      "532/532 [==============================] - 435s 817ms/step - loss: 0.0381 - categorical_accuracy: 0.9872\n",
      "\n",
      "Epoch 00027: categorical_accuracy did not improve from 0.98843\n",
      "Epoch 28/40\n",
      "532/532 [==============================] - 463s 871ms/step - loss: 0.0356 - categorical_accuracy: 0.9875\n",
      "\n",
      "Epoch 00028: categorical_accuracy did not improve from 0.98843\n",
      "Epoch 29/40\n",
      "532/532 [==============================] - 426s 801ms/step - loss: 0.0359 - categorical_accuracy: 0.9875\n",
      "\n",
      "Epoch 00029: categorical_accuracy did not improve from 0.98843\n",
      "Epoch 30/40\n",
      "532/532 [==============================] - 444s 835ms/step - loss: 0.0335 - categorical_accuracy: 0.9881\n",
      "\n",
      "Epoch 00030: categorical_accuracy did not improve from 0.98843\n",
      "Epoch 31/40\n",
      "532/532 [==============================] - 441s 828ms/step - loss: 0.0303 - categorical_accuracy: 0.9894\n",
      "\n",
      "Epoch 00031: categorical_accuracy improved from 0.98843 to 0.98941, saving model to C:/Datasets/scene-classification/models/irnv2_v3_adam-contrain-v1.2-31-0.99.hdf5\n",
      "Epoch 32/40\n",
      "532/532 [==============================] - 440s 826ms/step - loss: 0.0343 - categorical_accuracy: 0.9881\n",
      "\n",
      "Epoch 00032: categorical_accuracy did not improve from 0.98941\n",
      "Epoch 33/40\n",
      "532/532 [==============================] - 447s 840ms/step - loss: 0.0352 - categorical_accuracy: 0.9874\n",
      "\n",
      "Epoch 00033: categorical_accuracy did not improve from 0.98941\n",
      "Epoch 34/40\n",
      "532/532 [==============================] - 470s 884ms/step - loss: 0.0317 - categorical_accuracy: 0.9882\n",
      "\n",
      "Epoch 00034: categorical_accuracy did not improve from 0.98941\n",
      "Epoch 35/40\n",
      "532/532 [==============================] - 467s 879ms/step - loss: 0.0314 - categorical_accuracy: 0.9898\n",
      "\n",
      "Epoch 00035: categorical_accuracy improved from 0.98941 to 0.98982, saving model to C:/Datasets/scene-classification/models/irnv2_v3_adam-contrain-v1.2-35-0.99.hdf5\n",
      "Epoch 36/40\n",
      "532/532 [==============================] - 452s 850ms/step - loss: 0.0330 - categorical_accuracy: 0.9889\n",
      "\n",
      "Epoch 00036: categorical_accuracy did not improve from 0.98982\n",
      "Epoch 37/40\n",
      "532/532 [==============================] - 457s 859ms/step - loss: 0.0330 - categorical_accuracy: 0.9884\n",
      "\n",
      "Epoch 00037: categorical_accuracy did not improve from 0.98982\n",
      "Epoch 38/40\n",
      "532/532 [==============================] - 453s 852ms/step - loss: 0.0311 - categorical_accuracy: 0.9897\n",
      "\n",
      "Epoch 00038: categorical_accuracy did not improve from 0.98982\n",
      "Epoch 39/40\n",
      "532/532 [==============================] - 423s 795ms/step - loss: 0.0338 - categorical_accuracy: 0.9890\n",
      "\n",
      "Epoch 00039: categorical_accuracy did not improve from 0.98982\n",
      "Epoch 40/40\n",
      "532/532 [==============================] - 383s 720ms/step - loss: 0.0303 - categorical_accuracy: 0.9906\n",
      "\n",
      "Epoch 00040: categorical_accuracy improved from 0.98982 to 0.99059, saving model to C:/Datasets/scene-classification/models/irnv2_v3_adam-contrain-v1.2-40-0.99.hdf5\n"
     ]
    },
    {
     "data": {
      "text/plain": [
       "<keras.callbacks.History at 0x1eb2d2c4390>"
      ]
     },
     "execution_count": 14,
     "metadata": {},
     "output_type": "execute_result"
    }
   ],
   "source": [
    "model.fit_generator(generator=train_generator,\n",
    "                    steps_per_epoch=STEP_SIZE_TRAIN,\n",
    "                    callbacks=[checkpoint, tb],\n",
    "                    epochs=40,\n",
    "                    verbose=1)"
   ]
  },
  {
   "cell_type": "code",
   "execution_count": null,
   "metadata": {},
   "outputs": [],
   "source": []
  }
 ],
 "metadata": {
  "kernelspec": {
   "display_name": "TensorFlow-GPU",
   "language": "python",
   "name": "tf-gpu"
  },
  "language_info": {
   "codemirror_mode": {
    "name": "ipython",
    "version": 3
   },
   "file_extension": ".py",
   "mimetype": "text/x-python",
   "name": "python",
   "nbconvert_exporter": "python",
   "pygments_lexer": "ipython3",
   "version": "3.6.7"
  }
 },
 "nbformat": 4,
 "nbformat_minor": 2
}
