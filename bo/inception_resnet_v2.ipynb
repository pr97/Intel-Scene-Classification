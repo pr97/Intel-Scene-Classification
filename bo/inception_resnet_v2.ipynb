{
 "cells": [
  {
   "cell_type": "code",
   "execution_count": 1,
   "metadata": {},
   "outputs": [
    {
     "name": "stderr",
     "output_type": "stream",
     "text": [
      "Using TensorFlow backend.\n"
     ]
    }
   ],
   "source": [
    "from keras.applications.inception_resnet_v2 import InceptionResNetV2\n",
    "from keras import *\n",
    "from keras.models import *\n",
    "from keras.layers import Input, Dense\n",
    "from keras.preprocessing import image\n",
    "from keras.applications.inception_resnet_v2 import preprocess_input, decode_predictions\n",
    "\n",
    "import numpy as np\n",
    "from keras.utils.np_utils import to_categorical\n",
    "import glob\n",
    "import os.path\n",
    "from keras.models import load_model\n",
    "\n",
    "categories = ['buildings', 'forest', 'glacier', 'mountain', 'sea', 'street']"
   ]
  },
  {
   "cell_type": "code",
   "execution_count": 2,
   "metadata": {},
   "outputs": [],
   "source": [
    "def load_data(file_path):\n",
    "    x_train = []\n",
    "    y_train = []\n",
    "    \n",
    "    images = glob.glob(file_path + '/**/*')\n",
    "    for photo in images:\n",
    "        img = image.load_img(photo, target_size=(299, 299))\n",
    "        tr_x = image.img_to_array(img)\n",
    "        tr_x = preprocess_input(tr_x)\n",
    "        label = (photo.split('\\\\')[1][2:])\n",
    "        label_place = categories.index(label)\n",
    "        \n",
    "        x_train.append(tr_x)\n",
    "        y_train.append(label_place)\n",
    "        \n",
    "    return np.array(x_train), to_categorical(y_train)"
   ]
  },
  {
   "cell_type": "code",
   "execution_count": 3,
   "metadata": {},
   "outputs": [],
   "source": [
    "x_train, y_train = load_data('D:/Datasets/scene-classification/data/train/')"
   ]
  },
  {
   "cell_type": "code",
   "execution_count": 4,
   "metadata": {},
   "outputs": [
    {
     "data": {
      "text/plain": [
       "numpy.ndarray"
      ]
     },
     "execution_count": 4,
     "metadata": {},
     "output_type": "execute_result"
    }
   ],
   "source": [
    "type(y_train)"
   ]
  },
  {
   "cell_type": "code",
   "execution_count": 5,
   "metadata": {},
   "outputs": [
    {
     "data": {
      "text/plain": [
       "(15000, 6)"
      ]
     },
     "execution_count": 5,
     "metadata": {},
     "output_type": "execute_result"
    }
   ],
   "source": [
    "y_train.shape"
   ]
  },
  {
   "cell_type": "code",
   "execution_count": 8,
   "metadata": {},
   "outputs": [
    {
     "data": {
      "text/plain": [
       "(15000, 299, 299, 3)"
      ]
     },
     "execution_count": 8,
     "metadata": {},
     "output_type": "execute_result"
    }
   ],
   "source": [
    "x_train.shape"
   ]
  },
  {
   "cell_type": "code",
   "execution_count": 9,
   "metadata": {},
   "outputs": [],
   "source": [
    "np.save('D:/Datasets/scene-classification/train_set_array.npy', x_train)"
   ]
  },
  {
   "cell_type": "code",
   "execution_count": 12,
   "metadata": {},
   "outputs": [],
   "source": [
    "input = Input(shape=(299, 299, 3))"
   ]
  },
  {
   "cell_type": "code",
   "execution_count": 15,
   "metadata": {},
   "outputs": [
    {
     "name": "stdout",
     "output_type": "stream",
     "text": [
      "Model does not exist, starting training\n",
      "Epoch 1/3\n",
      "15000/15000 [==============================] - 220s 15ms/step - loss: 0.5428 - categorical_accuracy: 0.8163\n",
      "Epoch 2/3\n",
      "15000/15000 [==============================] - 179s 12ms/step - loss: 0.3589 - categorical_accuracy: 0.8701\n",
      "Epoch 3/3\n",
      "15000/15000 [==============================] - 192s 13ms/step - loss: 0.3320 - categorical_accuracy: 0.8772\n"
     ]
    }
   ],
   "source": [
    "if (os.path.isfile('irnv2.h5')):\n",
    "    print('Model exists')\n",
    "    model = load_model('irnv2.h5')\n",
    "else:\n",
    "    print('Model does not exist, starting training')\n",
    "    base_model = InceptionResNetV2(include_top=False, weights='imagenet', input_tensor=input, input_shape=(299, 299, 3), pooling='avg', classes=1000)\n",
    "    for l in base_model.layers:\n",
    "        l.trainable=False\n",
    "    \n",
    "    t = base_model(input)\n",
    "    o = Dense(len(categories), activation='softmax')(t)\n",
    "    model = Model(inputs=input, outputs=o)\n",
    "    \n",
    "    model.compile(loss='categorical_crossentropy', optimizer='adam', metrics=['categorical_accuracy'])\n",
    "    model.fit(x_train, y_train, batch_size=32, epochs=3, shuffle=True, verbose=1)\n",
    "    model.save('irnv2.h5')"
   ]
  },
  {
   "cell_type": "code",
   "execution_count": null,
   "metadata": {},
   "outputs": [],
   "source": []
  }
 ],
 "metadata": {
  "kernelspec": {
   "display_name": "TensorFlow-GPU",
   "language": "python",
   "name": "tf-gpu"
  },
  "language_info": {
   "codemirror_mode": {
    "name": "ipython",
    "version": 3
   },
   "file_extension": ".py",
   "mimetype": "text/x-python",
   "name": "python",
   "nbconvert_exporter": "python",
   "pygments_lexer": "ipython3",
   "version": "3.6.7"
  }
 },
 "nbformat": 4,
 "nbformat_minor": 2
}
